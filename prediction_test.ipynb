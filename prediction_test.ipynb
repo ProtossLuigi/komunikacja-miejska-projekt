{
 "cells": [
  {
   "cell_type": "code",
   "execution_count": 35,
   "metadata": {},
   "outputs": [],
   "source": [
    "import networkx as nx\n",
    "import osmnx as ox\n",
    "import geopandas as gpd\n",
    "import pandas as pd\n",
    "import numpy as np\n",
    "import matplotlib.pyplot as plt\n",
    "import seaborn as sns\n",
    "from shapely.geometry import Point\n",
    "import json\n",
    "from tqdm.notebook import tqdm\n",
    "tqdm.pandas()\n",
    "\n",
    "import math\n",
    "\n",
    "\n",
    "%matplotlib inline"
   ]
  },
  {
   "cell_type": "code",
   "execution_count": 2,
   "metadata": {},
   "outputs": [],
   "source": [
    "def add_velocity_and_distance(row):\n",
    "    duration = row['duration']\n",
    "    start_point = row['source_geometry']\n",
    "    end_point = row['target_geometry']\n",
    "    line_distance = start_point.distance(end_point)\n",
    "    line_velocity = line_distance / (duration / 60 / 60) / 1000 if duration > 0 else 60\n",
    "    mid_x = (start_point.coords[0][0] + end_point.coords[0][0]) / 2\n",
    "    mid_y = (start_point.coords[0][1] + end_point.coords[0][1]) / 2\n",
    "    midpoint = Point(mid_x, mid_y)\n",
    "    row['line_distance'] = line_distance\n",
    "    row['line_velocity'] = line_velocity\n",
    "    row['geometry'] = midpoint\n",
    "    return row"
   ]
  },
  {
   "cell_type": "code",
   "execution_count": 3,
   "metadata": {},
   "outputs": [
    {
     "name": "stderr",
     "output_type": "stream",
     "text": [
      "C:\\Users\\proto\\AppData\\Local\\Temp/ipykernel_70420/260290447.py:15: DtypeWarning: Columns (5) have mixed types. Specify dtype option on import or set low_memory=False.\n",
      "  routes = pd.read_csv(\"routes_df.csv\")\n"
     ]
    }
   ],
   "source": [
    "routes_od = pd.read_csv(\"dane/routes.txt\")\n",
    "stops_od = pd.read_csv(\"dane/stops.txt\")\n",
    "shapes_od = pd.read_csv(\"dane/shapes.txt\")\n",
    "trips_od = pd.read_csv(\"dane/trips.txt\")\n",
    "stop_times_od = pd.read_csv(\"dane/stop_times.txt\")\n",
    "\n",
    "stops_od = gpd.GeoDataFrame(stops_od, geometry=gpd.points_from_xy(stops_od.stop_lon.values, stops_od.stop_lat.values), crs='WGS84').drop([\"stop_lat\", \"stop_lon\"], axis=1)\n",
    "\n",
    "stops_od.rename(columns={\"stop_name\": \"name\"}, inplace=True)\n",
    "stops_od['geometry'] = [Point(round(el, 3) for el in p.coords[0]) for p in stops_od.geometry.values]\n",
    "stops_od['coords'] = [p.coords[0] for p in stops_od.geometry.values]\n",
    "\n",
    "shapes_od = gpd.GeoDataFrame(shapes_od, geometry=gpd.points_from_xy(shapes_od.shape_pt_lon.values, shapes_od.shape_pt_lat.values), crs='WGS84').drop([\"shape_pt_lat\", \"shape_pt_lon\"], axis=1)\n",
    "\n",
    "routes = pd.read_csv(\"routes_df.csv\")"
   ]
  },
  {
   "cell_type": "code",
   "execution_count": 4,
   "metadata": {},
   "outputs": [
    {
     "name": "stderr",
     "output_type": "stream",
     "text": [
      "C:\\Users\\proto\\AppData\\Local\\Programs\\Python\\Python39\\lib\\site-packages\\osmnx\\geocoder.py:110: FutureWarning: The frame.append method is deprecated and will be removed from pandas in a future version. Use pandas.concat instead.\n",
      "  gdf = gdf.append(_geocode_query_to_gdf(q, wr, by_osmid))\n",
      "C:\\Users\\proto\\AppData\\Local\\Programs\\Python\\Python39\\lib\\site-packages\\osmnx\\geocoder.py:110: FutureWarning: The frame.append method is deprecated and will be removed from pandas in a future version. Use pandas.concat instead.\n",
      "  gdf = gdf.append(_geocode_query_to_gdf(q, wr, by_osmid))\n",
      "C:\\Users\\proto\\AppData\\Local\\Programs\\Python\\Python39\\lib\\site-packages\\osmnx\\geocoder.py:110: FutureWarning: The frame.append method is deprecated and will be removed from pandas in a future version. Use pandas.concat instead.\n",
      "  gdf = gdf.append(_geocode_query_to_gdf(q, wr, by_osmid))\n"
     ]
    }
   ],
   "source": [
    "bus_stops_ox = ox.geometries_from_place(\"Wrocław, Poland\", tags={'highway': 'bus_stop'}).loc['node']\n",
    "bus_stops_ox.drop('name', axis=1, inplace=True)\n",
    "\n",
    "tram_stops_ox = ox.geometries_from_place(\"Wrocław, Poland\", tags={'railway': 'tram_stop'}).loc['node']\n",
    "tram_stops_ox.drop('name', axis=1, inplace=True)\n",
    "\n",
    "wroc = ox.geocode_to_gdf(\"Wrocław, Poland\")"
   ]
  },
  {
   "cell_type": "code",
   "execution_count": 5,
   "metadata": {},
   "outputs": [],
   "source": [
    "tram_op = gpd.read_file(\"dane/tram.geojson\")\n",
    "bus_op = gpd.read_file(\"dane/bus.geojson\")\n",
    "\n",
    "\n",
    "tram_op = tram_op[tram_op.within(wroc.iloc[0].geometry.buffer(0.05))]\n",
    "bus_op = bus_op[bus_op.within(wroc.iloc[0].geometry.buffer(0.05))]\n",
    "\n",
    "bus_stops_op = bus_op[bus_op['route'] != 'bus'].dropna(axis=1, how='all')\n",
    "bus_stops_op['osmid'] = [int(el.split(\"/\")[1]) for el in bus_stops_op['id']]\n",
    "bus_stops_op.drop(['id', '@id'], axis=1, inplace=True)\n",
    "bus_routes_op = bus_op[bus_op['route'] == 'bus']\n",
    "\n",
    "tram_stops_op = tram_op[tram_op['route'] != 'tram'].dropna(axis=1, how='all')\n",
    "tram_stops_op['osmid'] = [int(el.split(\"/\")[1]) for el in tram_stops_op['id']]\n",
    "tram_stops_op.drop(['id', '@id'], axis=1, inplace=True)\n",
    "tram_routes_op = tram_op[tram_op['route'] == 'tram']"
   ]
  },
  {
   "cell_type": "code",
   "execution_count": 6,
   "metadata": {},
   "outputs": [],
   "source": [
    "bus_stops_ox['osmid'] = bus_stops_ox.index.values\n",
    "bus_stops_ox['coords'] = [p.coords[0] for p in [Point(round(el, 3) for el in p.coords[0]) for p in bus_stops_ox.geometry.values]]\n",
    "\n",
    "bus_stops_final = bus_stops_ox.merge(stops_od.drop('geometry', axis=1), on=\"coords\")[['osmid', 'stop_id', 'stop_code', 'name', 'geometry']]"
   ]
  },
  {
   "cell_type": "code",
   "execution_count": 7,
   "metadata": {},
   "outputs": [],
   "source": [
    "tram_stops_ox['osmid'] = tram_stops_ox.index.values\n",
    "tram_stops_ox['coords'] = [p.coords[0] for p in [Point(round(el, 3) for el in p.coords[0]) for p in tram_stops_ox.geometry.values]]\n",
    "\n",
    "tram_stops_final = tram_stops_ox.merge(stops_od.drop('geometry', axis=1), on=\"coords\")[['osmid', 'stop_id', 'stop_code', 'name', 'geometry']]"
   ]
  },
  {
   "cell_type": "code",
   "execution_count": 8,
   "metadata": {},
   "outputs": [
    {
     "name": "stderr",
     "output_type": "stream",
     "text": [
      "C:\\Users\\proto\\AppData\\Local\\Programs\\Python\\Python39\\lib\\site-packages\\geopandas\\geodataframe.py:1351: SettingWithCopyWarning: \n",
      "A value is trying to be set on a copy of a slice from a DataFrame.\n",
      "Try using .loc[row_indexer,col_indexer] = value instead\n",
      "\n",
      "See the caveats in the documentation: https://pandas.pydata.org/pandas-docs/stable/user_guide/indexing.html#returning-a-view-versus-a-copy\n",
      "  super().__setitem__(key, value)\n"
     ]
    }
   ],
   "source": [
    "wroc.to_crs(crs='EPSG:3395', inplace=True)\n",
    "stops_od.to_crs(crs='EPSG:3395', inplace=True)\n",
    "\n",
    "bus_routes_op.to_crs(crs='EPSG:3395', inplace=True)\n",
    "bus_stops_ox.to_crs(crs='EPSG:3395', inplace=True)\n",
    "bus_stops_op.to_crs(crs='EPSG:3395', inplace=True)\n",
    "bus_stops_final.to_crs(crs='EPSG:3395', inplace=True)\n",
    "\n",
    "tram_routes_op.to_crs(crs='EPSG:3395', inplace=True)\n",
    "tram_stops_ox.to_crs(crs='EPSG:3395', inplace=True)\n",
    "tram_stops_op.to_crs(crs='EPSG:3395', inplace=True)\n",
    "tram_stops_final.to_crs(crs='EPSG:3395', inplace=True)"
   ]
  },
  {
   "cell_type": "code",
   "execution_count": 9,
   "metadata": {},
   "outputs": [
    {
     "name": "stderr",
     "output_type": "stream",
     "text": [
      "C:\\Users\\proto\\AppData\\Local\\Temp/ipykernel_70420/2083379795.py:1: DtypeWarning: Columns (5) have mixed types. Specify dtype option on import or set low_memory=False.\n",
      "  routes_df = pd.read_csv(\"routes_df.csv\")\n"
     ]
    }
   ],
   "source": [
    "routes_df = pd.read_csv(\"routes_df.csv\")\n",
    "routes_df['duration'] = routes_df['duration']*60 # minutes into seconds\n",
    "\n",
    "routes_df['source_geometry'] = routes_df['source_geometry'].apply(lambda x: Point(np.array(x.replace(\"(\", \"\").replace(\")\", \"\").split(\" \")[1:], float)))\n",
    "routes_df['target_geometry'] = routes_df['target_geometry'].apply(lambda x: Point(np.array(x.replace(\"(\", \"\").replace(\")\", \"\").split(\" \")[1:], float)))\n",
    "routes_df['geometry'] = routes_df['geometry'].apply(lambda x: Point(np.array(x.replace(\"(\", \"\").replace(\")\", \"\").split(\" \")[1:], float)))"
   ]
  },
  {
   "cell_type": "code",
   "execution_count": 10,
   "metadata": {},
   "outputs": [],
   "source": [
    "from copy import deepcopy\n",
    "\n",
    "temp_stops_df = deepcopy(pd.concat([bus_stops_final, tram_stops_final]))\n",
    "\n",
    "stops_nodes = gpd.GeoDataFrame(temp_stops_df[['geometry', 'osmid', 'stop_id']])\n",
    "stops_nodes['x'] = [p.coords[0][0] for p in temp_stops_df.geometry.values]\n",
    "stops_nodes['y'] = [p.coords[0][1] for p in temp_stops_df.geometry.values]\n",
    "stops_nodes.set_index('osmid', inplace=True)\n",
    "stops_nodes.to_crs(crs='EPSG:3395', inplace=True)"
   ]
  },
  {
   "cell_type": "code",
   "execution_count": 11,
   "metadata": {},
   "outputs": [],
   "source": [
    "mean_routes_df = routes_df.drop(['direction', 'hour', 'source_stop_id', 'target_stop_id'], axis=1).groupby(['source-target']).mean() \\\n",
    "    .merge(routes_df[['source-target', 'source_geometry', 'target_geometry']], on=['source-target']) \\\n",
    "    .astype(str) \\\n",
    "    .drop_duplicates().reset_index(drop=True)\n",
    "\n",
    "mean_routes_df['source_geometry'] = mean_routes_df['source_geometry'].apply(lambda x: Point(np.array(x.replace(\"(\", \"\").replace(\")\", \"\").split(\" \")[1:], float)))\n",
    "mean_routes_df['target_geometry'] = mean_routes_df['target_geometry'].apply(lambda x: Point(np.array(x.replace(\"(\", \"\").replace(\")\", \"\").split(\" \")[1:], float)))\n",
    "\n",
    "mean_routes_df['duration'] = mean_routes_df['duration'].astype(float)\n",
    "mean_routes_df['line_velocity'] = mean_routes_df['line_velocity'].astype(float)\n",
    "mean_routes_df['line_distance'] = mean_routes_df['line_distance'].astype(float)"
   ]
  },
  {
   "cell_type": "code",
   "execution_count": 12,
   "metadata": {},
   "outputs": [
    {
     "name": "stderr",
     "output_type": "stream",
     "text": [
      "C:\\Users\\proto\\AppData\\Local\\Programs\\Python\\Python39\\lib\\site-packages\\geopandas\\geodataframe.py:475: FutureWarning: CRS mismatch between CRS of the passed geometries and 'crs'. Use 'GeoDataFrame.set_crs(crs, allow_override=True)' to overwrite CRS or 'GeoDataFrame.to_crs(crs)' to reproject geometries. CRS mismatch will raise an error in the future versions of GeoPandas.\n",
      "  return GeoDataFrame(dataframe, geometry=geometry, crs=crs)\n"
     ]
    }
   ],
   "source": [
    "from shapely.geometry import LineString\n",
    "\n",
    "rows = []\n",
    "for edge in mean_routes_df.iterrows():\n",
    "    edge = edge[1]\n",
    "    source, target = np.array(edge['source-target'].split(\"-\"), int)\n",
    "    if source in stops_nodes['stop_id'].values and target in stops_nodes['stop_id'].values:\n",
    "        source = temp_stops_df[temp_stops_df['stop_id'] == source].iloc[0]\n",
    "        target = temp_stops_df[temp_stops_df['stop_id'] == target].iloc[0]\n",
    "        start_point, end_point = edge['source_geometry'], edge['target_geometry']\n",
    "        rows.append({\n",
    "            'u': source['osmid'],\n",
    "            'v': target['osmid'],\n",
    "            'line_distance': edge['line_distance'],\n",
    "            'line_velocity': edge['line_velocity'],\n",
    "            'geometry': LineString([start_point.coords[0], end_point.coords[0]]),\n",
    "            'source_stop_id': source['stop_id'],\n",
    "            'target_stop_id': target['stop_id'],\n",
    "            \"duration\": edge['duration'],\n",
    "            \"key\": 0\n",
    "        })\n",
    "        \n",
    "stops_edges = gpd.GeoDataFrame.from_dict(rows, crs='EPSG:3395').set_index(['u', 'v', 'key'])"
   ]
  },
  {
   "cell_type": "code",
   "execution_count": 86,
   "metadata": {},
   "outputs": [],
   "source": [
    "G = ox.graph_from_gdfs(\n",
    "    stops_nodes.drop('stop_id', axis=1).drop_duplicates(),\n",
    "    stops_edges\n",
    ")"
   ]
  },
  {
   "cell_type": "code",
   "execution_count": 13,
   "metadata": {},
   "outputs": [],
   "source": [
    "def parse_str_duration_to_seconds(duration):\n",
    "    minutes, seconds = duration.split(':')[1:]\n",
    "    minutes, seconds = float(minutes), float(seconds)\n",
    "    return minutes*60 + seconds\n",
    "\n",
    "\n",
    "recorded_trips = pd.read_csv(\"data/recorded_trips.csv\", index_col=0)\n",
    "recorded_trips['time'] = [start_time.split('+')[0].split(' ')[1] for start_time in recorded_trips['start_time'].values] # chcemy tylko godziny i minuty\n",
    "recorded_trips['hour'] = [int(time.split(':')[0]) for time in recorded_trips['time']]\n",
    "recorded_trips = recorded_trips.rename(columns={'destination_id': 'target_code', 'source_id': 'source_code'}).dropna()\n",
    "recorded_trips['source_code'] = recorded_trips['source_code'].astype(int)\n",
    "recorded_trips['target_code'] = recorded_trips['target_code'].astype(int)\n",
    "recorded_trips = recorded_trips[~recorded_trips['duration'].str.contains('-')] # usuwamy -1 days, do naprawyy\n",
    "recorded_trips['duration'] = recorded_trips['duration'].apply(parse_str_duration_to_seconds) # zamieniamy stringi na sekundy\n",
    "recorded_trips = recorded_trips.drop(['source_name', 'destination_name', 'line', 'k', 'likely_incorrect', 'start_time', 'end_time'], axis=1)"
   ]
  },
  {
   "cell_type": "code",
   "execution_count": 14,
   "metadata": {},
   "outputs": [],
   "source": [
    "recorded_trips = recorded_trips.merge(\n",
    "    stops_od[['stop_code', 'geometry', 'stop_id']].rename(columns={'stop_code': 'source_code'}), \n",
    "    on=\"source_code\"\n",
    ").rename(columns={'geometry': 'source_geometry', 'stop_id': 'source_stop_id'})\n",
    "\n",
    "recorded_trips = recorded_trips.merge(\n",
    "    stops_od[['stop_code', 'geometry', 'stop_id']].rename(columns={'stop_code': 'target_code'}), \n",
    "    on=\"target_code\"\n",
    ").rename(columns={'geometry': 'target_geometry', 'stop_id': 'target_stop_id'})\n",
    "\n",
    "recorded_trips = recorded_trips.drop(['source_code', 'target_code'], axis=1)\n",
    "recorded_trips['source-target'] = recorded_trips[['source_stop_id', 'target_stop_id']].apply(lambda x: f\"{x['source_stop_id']}-{x['target_stop_id']}\", axis=1)"
   ]
  },
  {
   "cell_type": "code",
   "execution_count": 36,
   "metadata": {},
   "outputs": [
    {
     "data": {
      "application/vnd.jupyter.widget-view+json": {
       "model_id": "bd736b04bb4141ae891ba2828ad22468",
       "version_major": 2,
       "version_minor": 0
      },
      "text/plain": [
       "HBox(children=(FloatProgress(value=0.0, max=158457.0), HTML(value='')))"
      ]
     },
     "metadata": {},
     "output_type": "display_data"
    },
    {
     "ename": "AttributeError",
     "evalue": "'DataFrame' object has no attribute '_is_builtin_func'",
     "output_type": "error",
     "traceback": [
      "\u001b[1;31m---------------------------------------------------------------------------\u001b[0m",
      "\u001b[1;31mAttributeError\u001b[0m                            Traceback (most recent call last)",
      "\u001b[1;32m~\\AppData\\Local\\Temp/ipykernel_70420/1855858922.py\u001b[0m in \u001b[0;36m<module>\u001b[1;34m\u001b[0m\n\u001b[1;32m----> 1\u001b[1;33m \u001b[0mrecorded_trips\u001b[0m \u001b[1;33m=\u001b[0m \u001b[0mrecorded_trips\u001b[0m\u001b[1;33m.\u001b[0m\u001b[0mprogress_apply\u001b[0m\u001b[1;33m(\u001b[0m\u001b[0madd_velocity_and_distance\u001b[0m\u001b[1;33m,\u001b[0m \u001b[0maxis\u001b[0m\u001b[1;33m=\u001b[0m\u001b[1;36m1\u001b[0m\u001b[1;33m)\u001b[0m\u001b[1;33m\u001b[0m\u001b[1;33m\u001b[0m\u001b[0m\n\u001b[0m",
      "\u001b[1;32m~\\AppData\\Local\\Programs\\Python\\Python39\\lib\\site-packages\\tqdm\\std.py\u001b[0m in \u001b[0;36minner\u001b[1;34m(df, func, *args, **kwargs)\u001b[0m\n\u001b[0;32m    739\u001b[0m \u001b[1;33m\u001b[0m\u001b[0m\n\u001b[0;32m    740\u001b[0m                 \u001b[1;32mtry\u001b[0m\u001b[1;33m:\u001b[0m\u001b[1;33m\u001b[0m\u001b[1;33m\u001b[0m\u001b[0m\n\u001b[1;32m--> 741\u001b[1;33m                     \u001b[0mfunc\u001b[0m \u001b[1;33m=\u001b[0m \u001b[0mdf\u001b[0m\u001b[1;33m.\u001b[0m\u001b[0m_is_builtin_func\u001b[0m\u001b[1;33m(\u001b[0m\u001b[0mfunc\u001b[0m\u001b[1;33m)\u001b[0m\u001b[1;33m\u001b[0m\u001b[1;33m\u001b[0m\u001b[0m\n\u001b[0m\u001b[0;32m    742\u001b[0m                 \u001b[1;32mexcept\u001b[0m \u001b[0mTypeError\u001b[0m\u001b[1;33m:\u001b[0m\u001b[1;33m\u001b[0m\u001b[1;33m\u001b[0m\u001b[0m\n\u001b[0;32m    743\u001b[0m                     \u001b[1;32mpass\u001b[0m\u001b[1;33m\u001b[0m\u001b[1;33m\u001b[0m\u001b[0m\n",
      "\u001b[1;32m~\\AppData\\Local\\Programs\\Python\\Python39\\lib\\site-packages\\pandas\\core\\generic.py\u001b[0m in \u001b[0;36m__getattr__\u001b[1;34m(self, name)\u001b[0m\n\u001b[0;32m   5581\u001b[0m         ):\n\u001b[0;32m   5582\u001b[0m             \u001b[1;32mreturn\u001b[0m \u001b[0mself\u001b[0m\u001b[1;33m[\u001b[0m\u001b[0mname\u001b[0m\u001b[1;33m]\u001b[0m\u001b[1;33m\u001b[0m\u001b[1;33m\u001b[0m\u001b[0m\n\u001b[1;32m-> 5583\u001b[1;33m         \u001b[1;32mreturn\u001b[0m \u001b[0mobject\u001b[0m\u001b[1;33m.\u001b[0m\u001b[0m__getattribute__\u001b[0m\u001b[1;33m(\u001b[0m\u001b[0mself\u001b[0m\u001b[1;33m,\u001b[0m \u001b[0mname\u001b[0m\u001b[1;33m)\u001b[0m\u001b[1;33m\u001b[0m\u001b[1;33m\u001b[0m\u001b[0m\n\u001b[0m\u001b[0;32m   5584\u001b[0m \u001b[1;33m\u001b[0m\u001b[0m\n\u001b[0;32m   5585\u001b[0m     \u001b[1;32mdef\u001b[0m \u001b[0m__setattr__\u001b[0m\u001b[1;33m(\u001b[0m\u001b[0mself\u001b[0m\u001b[1;33m,\u001b[0m \u001b[0mname\u001b[0m\u001b[1;33m:\u001b[0m \u001b[0mstr\u001b[0m\u001b[1;33m,\u001b[0m \u001b[0mvalue\u001b[0m\u001b[1;33m)\u001b[0m \u001b[1;33m->\u001b[0m \u001b[1;32mNone\u001b[0m\u001b[1;33m:\u001b[0m\u001b[1;33m\u001b[0m\u001b[1;33m\u001b[0m\u001b[0m\n",
      "\u001b[1;31mAttributeError\u001b[0m: 'DataFrame' object has no attribute '_is_builtin_func'"
     ]
    }
   ],
   "source": [
    "recorded_trips = recorded_trips.progress_apply(add_velocity_and_distance, axis=1)"
   ]
  },
  {
   "cell_type": "code",
   "execution_count": 16,
   "metadata": {},
   "outputs": [],
   "source": [
    "_routes_df = routes_df[routes_df['duration'] <= 540]\n",
    "_recorded_trips = recorded_trips[recorded_trips['duration'] <= 540]"
   ]
  },
  {
   "cell_type": "markdown",
   "metadata": {},
   "source": [
    "# Przygotowanie danych"
   ]
  },
  {
   "cell_type": "code",
   "execution_count": 113,
   "metadata": {},
   "outputs": [],
   "source": [
    "planned_trips = _routes_df[['duration', 'hour', 'source_stop_id', 'target_stop_id']]\n",
    "planned_trips = planned_trips.groupby(['hour', 'source_stop_id', 'target_stop_id']).mean().reset_index()"
   ]
  },
  {
   "cell_type": "code",
   "execution_count": 115,
   "metadata": {},
   "outputs": [],
   "source": [
    "real_trips = _recorded_trips[['duration', 'hour', 'source_stop_id', 'target_stop_id']]\n",
    "real_trips = real_trips.groupby(['hour', 'source_stop_id', 'target_stop_id']).mean().reset_index()"
   ]
  },
  {
   "cell_type": "code",
   "execution_count": 117,
   "metadata": {},
   "outputs": [],
   "source": [
    "merged = pd.merge(planned_trips, real_trips, how='inner', on=['hour', 'source_stop_id', 'target_stop_id'], suffixes=['_planned', '_real'])\n",
    "merged['delay'] = merged['duration_real'] - merged['duration_planned']\n",
    "merged['relative'] = merged['duration_real'] / merged['duration_planned']\n",
    "merged.replace([np.inf, -np.inf], np.nan, inplace=True)"
   ]
  },
  {
   "cell_type": "code",
   "execution_count": 119,
   "metadata": {},
   "outputs": [],
   "source": [
    "G = nx.DiGraph(G)"
   ]
  },
  {
   "cell_type": "code",
   "execution_count": null,
   "metadata": {},
   "outputs": [],
   "source": [
    "stops_nodes = stops_nodes.join(pd.Series(nx.betweenness_centrality(G), name='betweenness_centrality'), on='osmid')\n",
    "stops_nodes = stops_nodes.join(pd.Series(dict(nx.degree(G)), name='degree'), on='osmid')\n",
    "stops_nodes = stops_nodes.join(pd.Series(nx.closeness_centrality(G), name='closeness_centrality'), on='osmid')\n",
    "stops_nodes = stops_nodes.join(pd.Series(nx.clustering(G), name='clustering'), on='osmid')"
   ]
  },
  {
   "cell_type": "code",
   "execution_count": 128,
   "metadata": {},
   "outputs": [],
   "source": [
    "merged = pd.merge(merged, stops_nodes.drop('geometry', axis=1).add_prefix('source_'), how='left', on='source_stop_id')\n",
    "merged = pd.merge(merged, stops_nodes.drop('geometry', axis=1).add_prefix('target_'), how='left', on='target_stop_id')"
   ]
  },
  {
   "cell_type": "markdown",
   "metadata": {},
   "source": [
    "# Uczenie modelu"
   ]
  },
  {
   "cell_type": "code",
   "execution_count": 133,
   "metadata": {},
   "outputs": [],
   "source": [
    "from sklearn.preprocessing import StandardScaler\n",
    "from sklearn.model_selection import train_test_split\n",
    "from xgboost.sklearn import XGBRegressor\n",
    "from sklearn.metrics import r2_score, mean_squared_error\n",
    "import shap"
   ]
  },
  {
   "cell_type": "code",
   "execution_count": 131,
   "metadata": {},
   "outputs": [
    {
     "name": "stdout",
     "output_type": "stream",
     "text": [
      "train:\n",
      "\tmse:\t478.624\n",
      "\t r2:\t0.592\n",
      "test:\n",
      "\tmse:\t532.678\n",
      "\t r2:\t0.545\n"
     ]
    }
   ],
   "source": [
    "X_cols = [\n",
    "    'hour',\n",
    "    'source_x',\n",
    "    'source_y',\n",
    "    'source_betweenness_centrality',\n",
    "    'source_degree',\n",
    "    'source_closeness_centrality',\n",
    "    'source_clustering',\n",
    "    'target_x',\n",
    "    'target_y',\n",
    "    'target_betweenness_centrality',\n",
    "    'target_degree',\n",
    "    'target_closeness_centrality',\n",
    "    'target_clustering'\n",
    "]\n",
    "\n",
    "X = merged[X_cols]\n",
    "y = merged['delay']\n",
    "mask = y.notna()\n",
    "X = X[mask]\n",
    "y = y[mask]\n",
    "X_train, X_test, y_train, y_test = train_test_split(X, y, train_size=0.9)\n",
    "\n",
    "scaler = StandardScaler().fit(X_train)\n",
    "X_train = scaler.transform(X_train)\n",
    "X_test = scaler.transform(X_test)\n",
    "\n",
    "model = XGBRegressor(tree_method='gpu_hist').fit(X_train, y_train)\n",
    "y_pred = model.predict(X_train)\n",
    "\n",
    "print('train:')\n",
    "print(f'\\tmse:\\t{mean_squared_error(y_train, y_pred):.3f}')\n",
    "print(f'\\t r2:\\t{r2_score(y_train, y_pred):.3f}')\n",
    "\n",
    "y_pred = model.predict(X_test)\n",
    "\n",
    "print('test:')\n",
    "print(f'\\tmse:\\t{mean_squared_error(y_test, y_pred):.3f}')\n",
    "print(f'\\t r2:\\t{r2_score(y_test, y_pred):.3f}')"
   ]
  },
  {
   "cell_type": "markdown",
   "metadata": {},
   "source": [
    "### Wariancja targetu"
   ]
  },
  {
   "cell_type": "code",
   "execution_count": 141,
   "metadata": {},
   "outputs": [
    {
     "name": "stdout",
     "output_type": "stream",
     "text": [
      "Train std:\t1173.0975929500169\n",
      "Test std:\t1169.7577324627528\n"
     ]
    }
   ],
   "source": [
    "print(f'Train std:\\t{y_train.var()}')\n",
    "print(f'Test std:\\t{y_test.var()}')"
   ]
  },
  {
   "cell_type": "markdown",
   "metadata": {},
   "source": [
    "# Wpływ atrybutów"
   ]
  },
  {
   "cell_type": "code",
   "execution_count": 142,
   "metadata": {},
   "outputs": [
    {
     "name": "stderr",
     "output_type": "stream",
     "text": [
      "`np.bool` is a deprecated alias for the builtin `bool`. To silence this warning, use `bool` by itself. Doing this will not modify any behavior and is safe. If you specifically wanted the numpy scalar type, use `np.bool_` here.\n",
      "Deprecated in NumPy 1.20; for more details and guidance: https://numpy.org/devdocs/release/1.20.0-notes.html#deprecations\n",
      "`np.int` is a deprecated alias for the builtin `int`. To silence this warning, use `int` by itself. Doing this will not modify any behavior and is safe. When replacing `np.int`, you may wish to use e.g. `np.int64` or `np.int32` to specify the precision. If you wish to review your current use, check the release note link for additional information.\n",
      "Deprecated in NumPy 1.20; for more details and guidance: https://numpy.org/devdocs/release/1.20.0-notes.html#deprecations\n",
      "`np.int` is a deprecated alias for the builtin `int`. To silence this warning, use `int` by itself. Doing this will not modify any behavior and is safe. When replacing `np.int`, you may wish to use e.g. `np.int64` or `np.int32` to specify the precision. If you wish to review your current use, check the release note link for additional information.\n",
      "Deprecated in NumPy 1.20; for more details and guidance: https://numpy.org/devdocs/release/1.20.0-notes.html#deprecations\n",
      "`np.int` is a deprecated alias for the builtin `int`. To silence this warning, use `int` by itself. Doing this will not modify any behavior and is safe. When replacing `np.int`, you may wish to use e.g. `np.int64` or `np.int32` to specify the precision. If you wish to review your current use, check the release note link for additional information.\n",
      "Deprecated in NumPy 1.20; for more details and guidance: https://numpy.org/devdocs/release/1.20.0-notes.html#deprecations\n",
      "NPY_ARRAY_UPDATEIFCOPY, NPY_ARRAY_INOUT_ARRAY, and NPY_ARRAY_INOUT_FARRAY are deprecated, use NPY_WRITEBACKIFCOPY, NPY_ARRAY_INOUT_ARRAY2, or NPY_ARRAY_INOUT_FARRAY2 respectively instead, and call PyArray_ResolveWritebackIfCopy before the array is deallocated, i.e. before the last call to Py_DECREF.\n",
      "UPDATEIFCOPY detected in array_dealloc.  Required call to PyArray_ResolveWritebackIfCopy or PyArray_DiscardWritebackIfCopy is missing\n",
      "NPY_ARRAY_UPDATEIFCOPY, NPY_ARRAY_INOUT_ARRAY, and NPY_ARRAY_INOUT_FARRAY are deprecated, use NPY_WRITEBACKIFCOPY, NPY_ARRAY_INOUT_ARRAY2, or NPY_ARRAY_INOUT_FARRAY2 respectively instead, and call PyArray_ResolveWritebackIfCopy before the array is deallocated, i.e. before the last call to Py_DECREF.\n",
      "UPDATEIFCOPY detected in array_dealloc.  Required call to PyArray_ResolveWritebackIfCopy or PyArray_DiscardWritebackIfCopy is missing\n",
      "`np.bool` is a deprecated alias for the builtin `bool`. To silence this warning, use `bool` by itself. Doing this will not modify any behavior and is safe. If you specifically wanted the numpy scalar type, use `np.bool_` here.\n",
      "Deprecated in NumPy 1.20; for more details and guidance: https://numpy.org/devdocs/release/1.20.0-notes.html#deprecations\n",
      "`np.bool` is a deprecated alias for the builtin `bool`. To silence this warning, use `bool` by itself. Doing this will not modify any behavior and is safe. If you specifically wanted the numpy scalar type, use `np.bool_` here.\n",
      "Deprecated in NumPy 1.20; for more details and guidance: https://numpy.org/devdocs/release/1.20.0-notes.html#deprecations\n",
      " 99%|===================| 94016/94669 [01:40<00:00]        "
     ]
    },
    {
     "data": {
      "image/png": "[encoded data removed]",
      "text/plain": [
       "<Figure size 576x468 with 3 Axes>"
      ]
     },
     "metadata": {},
     "output_type": "display_data"
    }
   ],
   "source": [
    "explainer = shap.Explainer(model, X)\n",
    "shap_values = explainer(X)\n",
    "shap.plots.waterfall(shap_values[0])"
   ]
  }
 ],
 "metadata": {
  "interpreter": {
   "hash": "ae9258babb9dc6183a521d7a445c874d7696eb0fb582154c3a2ca8b33699b65d"
  },
  "kernelspec": {
   "display_name": "Python 3.9.6 64-bit",
   "language": "python",
   "name": "python3"
  },
  "language_info": {
   "codemirror_mode": {
    "name": "ipython",
    "version": 3
   },
   "file_extension": ".py",
   "mimetype": "text/x-python",
   "name": "python",
   "nbconvert_exporter": "python",
   "pygments_lexer": "ipython3",
   "version": "3.9.6"
  },
  "orig_nbformat": 4
 },
 "nbformat": 4,
 "nbformat_minor": 2
}
